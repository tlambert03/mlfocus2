{
 "cells": [
  {
   "cell_type": "code",
   "execution_count": 4,
   "metadata": {},
   "outputs": [
    {
     "name": "stderr",
     "output_type": "stream",
     "text": [
      "6it [00:01,  3.75it/s]"
     ]
    }
   ],
   "source": [
    "from mlfocus.data import SheetAlign\n",
    "import matplotlib.pyplot as plt\n",
    "import numpy as np\n",
    "from tqdm import tqdm\n",
    "\n",
    "dataset = SheetAlign(patch_size=96)\n",
    "fig, axes = plt.subplots(4, 6, figsize=(12, 8))\n",
    "for n, i in tqdm(enumerate(np.random.randint(0, len(dataset), axes.size))):\n",
    "    img, target = dataset[i]\n",
    "    axes.ravel()[n].imshow(img.max(0).values)\n",
    "    axes.ravel()[n].set_title(f\"{dataset.classes[i]} {target}\")\n",
    "    axes.ravel()[n].axis(\"off\")\n"
   ]
  },
  {
   "cell_type": "code",
   "execution_count": null,
   "metadata": {},
   "outputs": [],
   "source": []
  }
 ],
 "metadata": {
  "kernelspec": {
   "display_name": "Python 3.10.6 ('ml')",
   "language": "python",
   "name": "python3"
  },
  "language_info": {
   "codemirror_mode": {
    "name": "ipython",
    "version": 3
   },
   "file_extension": ".py",
   "mimetype": "text/x-python",
   "name": "python",
   "nbconvert_exporter": "python",
   "pygments_lexer": "ipython3",
   "version": "3.10.6"
  },
  "orig_nbformat": 4,
  "vscode": {
   "interpreter": {
    "hash": "f8a5e93e8b28dab66166259ec09cacdcd67ca3afbcdef8802642d85b12c1b696"
   }
  }
 },
 "nbformat": 4,
 "nbformat_minor": 2
}
